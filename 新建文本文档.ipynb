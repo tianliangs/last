{
 "cells": [
  {
   "cell_type": "code",
   "execution_count": null,
   "metadata": {},
   "outputs": [],
   "source": [
    "import geopandas as gpd\n",
    "from shapely.geometry import Point\n",
    "\n",
    "# 假设stations和edges已经是GeoDataFrame，并设置了geometry列\n",
    "def nearest_optimized(station, edges):\n",
    "    # 为边界数据创建空间索引\n",
    "    edges_sindex = edges.sindex\n",
    "\n",
    "    results = []\n",
    "    for idx, point in station.iterrows():\n",
    "        # 仅考虑最近的边界\n",
    "        possible_matches_index = list(edges_sindex.nearest(point['geometry'].bounds, 1))\n",
    "        possible_matches = edges.iloc[possible_matches_index]\n",
    "        nearest_edge = possible_matches.distance(point['geometry']).idxmin()\n",
    "        results.append({\n",
    "            'id': point['id'],\n",
    "            'edge_id': edges.iloc[nearest_edge].name,  # 获取最近边界的索引\n",
    "            'dist': point['geometry'].distance(edges.iloc[nearest_edge].geometry)\n",
    "        })\n",
    "\n",
    "    return pd.DataFrame(results)\n",
    "\n",
    "# 使用这个函数需要将你的数据转换为GeoDataFrame，并确保有正确的geometry列。\n"
   ]
  }
 ],
 "metadata": {
  "language_info": {
   "name": "python"
  }
 },
 "nbformat": 4,
 "nbformat_minor": 2
}
